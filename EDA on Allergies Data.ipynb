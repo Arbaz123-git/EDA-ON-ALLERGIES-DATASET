{
 "cells": [
  {
   "cell_type": "code",
   "execution_count": 2,
   "id": "222f62dc",
   "metadata": {},
   "outputs": [],
   "source": [
    "import pandas as pd\n",
    "import numpy as np\n",
    "import seaborn as sns\n",
    "import matplotlib.pyplot as plt"
   ]
  },
  {
   "cell_type": "code",
   "execution_count": 3,
   "id": "db64f3f5",
   "metadata": {},
   "outputs": [],
   "source": [
    "df=pd.read_csv(r\"C:\\Users\\HP\\Downloads\\synthea_sample_data_csv_nov2021\\csv\\allergies.csv\",header=0)"
   ]
  },
  {
   "cell_type": "code",
   "execution_count": 4,
   "id": "f34ee53b",
   "metadata": {},
   "outputs": [
    {
     "data": {
      "text/html": [
       "<div>\n",
       "<style scoped>\n",
       "    .dataframe tbody tr th:only-of-type {\n",
       "        vertical-align: middle;\n",
       "    }\n",
       "\n",
       "    .dataframe tbody tr th {\n",
       "        vertical-align: top;\n",
       "    }\n",
       "\n",
       "    .dataframe thead th {\n",
       "        text-align: right;\n",
       "    }\n",
       "</style>\n",
       "<table border=\"1\" class=\"dataframe\">\n",
       "  <thead>\n",
       "    <tr style=\"text-align: right;\">\n",
       "      <th></th>\n",
       "      <th>START</th>\n",
       "      <th>STOP</th>\n",
       "      <th>PATIENT</th>\n",
       "      <th>ENCOUNTER</th>\n",
       "      <th>CODE</th>\n",
       "      <th>SYSTEM</th>\n",
       "      <th>DESCRIPTION</th>\n",
       "      <th>TYPE</th>\n",
       "      <th>CATEGORY</th>\n",
       "      <th>REACTION1</th>\n",
       "      <th>DESCRIPTION1</th>\n",
       "      <th>SEVERITY1</th>\n",
       "      <th>REACTION2</th>\n",
       "      <th>DESCRIPTION2</th>\n",
       "      <th>SEVERITY2</th>\n",
       "    </tr>\n",
       "  </thead>\n",
       "  <tbody>\n",
       "    <tr>\n",
       "      <th>0</th>\n",
       "      <td>2020-02-17</td>\n",
       "      <td>NaN</td>\n",
       "      <td>b9c610cd-28a6-4636-ccb6-c7a0d2a4cb85</td>\n",
       "      <td>01efcc52-15d6-51e9-faa2-bee069fcbe44</td>\n",
       "      <td>111088007</td>\n",
       "      <td>Unknown</td>\n",
       "      <td>Latex (substance)</td>\n",
       "      <td>allergy</td>\n",
       "      <td>environment</td>\n",
       "      <td>247472004.0</td>\n",
       "      <td>Wheal (finding)</td>\n",
       "      <td>MILD</td>\n",
       "      <td>NaN</td>\n",
       "      <td>NaN</td>\n",
       "      <td>NaN</td>\n",
       "    </tr>\n",
       "    <tr>\n",
       "      <th>1</th>\n",
       "      <td>2020-02-17</td>\n",
       "      <td>NaN</td>\n",
       "      <td>b9c610cd-28a6-4636-ccb6-c7a0d2a4cb85</td>\n",
       "      <td>01efcc52-15d6-51e9-faa2-bee069fcbe44</td>\n",
       "      <td>84489001</td>\n",
       "      <td>Unknown</td>\n",
       "      <td>Mold (organism)</td>\n",
       "      <td>allergy</td>\n",
       "      <td>environment</td>\n",
       "      <td>76067001.0</td>\n",
       "      <td>Sneezing</td>\n",
       "      <td>MILD</td>\n",
       "      <td>NaN</td>\n",
       "      <td>NaN</td>\n",
       "      <td>NaN</td>\n",
       "    </tr>\n",
       "    <tr>\n",
       "      <th>2</th>\n",
       "      <td>2020-02-17</td>\n",
       "      <td>NaN</td>\n",
       "      <td>b9c610cd-28a6-4636-ccb6-c7a0d2a4cb85</td>\n",
       "      <td>01efcc52-15d6-51e9-faa2-bee069fcbe44</td>\n",
       "      <td>260147004</td>\n",
       "      <td>Unknown</td>\n",
       "      <td>House dust mite (organism)</td>\n",
       "      <td>allergy</td>\n",
       "      <td>environment</td>\n",
       "      <td>NaN</td>\n",
       "      <td>NaN</td>\n",
       "      <td>NaN</td>\n",
       "      <td>NaN</td>\n",
       "      <td>NaN</td>\n",
       "      <td>NaN</td>\n",
       "    </tr>\n",
       "    <tr>\n",
       "      <th>3</th>\n",
       "      <td>2020-02-17</td>\n",
       "      <td>NaN</td>\n",
       "      <td>b9c610cd-28a6-4636-ccb6-c7a0d2a4cb85</td>\n",
       "      <td>01efcc52-15d6-51e9-faa2-bee069fcbe44</td>\n",
       "      <td>264287008</td>\n",
       "      <td>Unknown</td>\n",
       "      <td>Animal dander (substance)</td>\n",
       "      <td>allergy</td>\n",
       "      <td>environment</td>\n",
       "      <td>878820003.0</td>\n",
       "      <td>Rhinoconjunctivitis (disorder)</td>\n",
       "      <td>MODERATE</td>\n",
       "      <td>271807003.0</td>\n",
       "      <td>Eruption of skin (disorder)</td>\n",
       "      <td>MILD</td>\n",
       "    </tr>\n",
       "    <tr>\n",
       "      <th>4</th>\n",
       "      <td>2020-02-17</td>\n",
       "      <td>NaN</td>\n",
       "      <td>b9c610cd-28a6-4636-ccb6-c7a0d2a4cb85</td>\n",
       "      <td>01efcc52-15d6-51e9-faa2-bee069fcbe44</td>\n",
       "      <td>256277009</td>\n",
       "      <td>Unknown</td>\n",
       "      <td>Grass pollen (substance)</td>\n",
       "      <td>allergy</td>\n",
       "      <td>environment</td>\n",
       "      <td>NaN</td>\n",
       "      <td>NaN</td>\n",
       "      <td>NaN</td>\n",
       "      <td>NaN</td>\n",
       "      <td>NaN</td>\n",
       "      <td>NaN</td>\n",
       "    </tr>\n",
       "  </tbody>\n",
       "</table>\n",
       "</div>"
      ],
      "text/plain": [
       "        START  STOP                               PATIENT  \\\n",
       "0  2020-02-17   NaN  b9c610cd-28a6-4636-ccb6-c7a0d2a4cb85   \n",
       "1  2020-02-17   NaN  b9c610cd-28a6-4636-ccb6-c7a0d2a4cb85   \n",
       "2  2020-02-17   NaN  b9c610cd-28a6-4636-ccb6-c7a0d2a4cb85   \n",
       "3  2020-02-17   NaN  b9c610cd-28a6-4636-ccb6-c7a0d2a4cb85   \n",
       "4  2020-02-17   NaN  b9c610cd-28a6-4636-ccb6-c7a0d2a4cb85   \n",
       "\n",
       "                              ENCOUNTER       CODE   SYSTEM  \\\n",
       "0  01efcc52-15d6-51e9-faa2-bee069fcbe44  111088007  Unknown   \n",
       "1  01efcc52-15d6-51e9-faa2-bee069fcbe44   84489001  Unknown   \n",
       "2  01efcc52-15d6-51e9-faa2-bee069fcbe44  260147004  Unknown   \n",
       "3  01efcc52-15d6-51e9-faa2-bee069fcbe44  264287008  Unknown   \n",
       "4  01efcc52-15d6-51e9-faa2-bee069fcbe44  256277009  Unknown   \n",
       "\n",
       "                  DESCRIPTION     TYPE     CATEGORY    REACTION1  \\\n",
       "0           Latex (substance)  allergy  environment  247472004.0   \n",
       "1             Mold (organism)  allergy  environment   76067001.0   \n",
       "2  House dust mite (organism)  allergy  environment          NaN   \n",
       "3   Animal dander (substance)  allergy  environment  878820003.0   \n",
       "4    Grass pollen (substance)  allergy  environment          NaN   \n",
       "\n",
       "                     DESCRIPTION1 SEVERITY1    REACTION2  \\\n",
       "0                 Wheal (finding)      MILD          NaN   \n",
       "1                        Sneezing      MILD          NaN   \n",
       "2                             NaN       NaN          NaN   \n",
       "3  Rhinoconjunctivitis (disorder)  MODERATE  271807003.0   \n",
       "4                             NaN       NaN          NaN   \n",
       "\n",
       "                  DESCRIPTION2 SEVERITY2  \n",
       "0                          NaN       NaN  \n",
       "1                          NaN       NaN  \n",
       "2                          NaN       NaN  \n",
       "3  Eruption of skin (disorder)      MILD  \n",
       "4                          NaN       NaN  "
      ]
     },
     "execution_count": 4,
     "metadata": {},
     "output_type": "execute_result"
    }
   ],
   "source": [
    "#head means to display the top rows from the data \n",
    "df.head()"
   ]
  },
  {
   "cell_type": "code",
   "execution_count": 5,
   "id": "28569a57",
   "metadata": {},
   "outputs": [
    {
     "data": {
      "text/plain": [
       "START            object\n",
       "STOP            float64\n",
       "PATIENT          object\n",
       "ENCOUNTER        object\n",
       "CODE              int64\n",
       "SYSTEM           object\n",
       "DESCRIPTION      object\n",
       "TYPE             object\n",
       "CATEGORY         object\n",
       "REACTION1       float64\n",
       "DESCRIPTION1     object\n",
       "SEVERITY1        object\n",
       "REACTION2       float64\n",
       "DESCRIPTION2     object\n",
       "SEVERITY2        object\n",
       "dtype: object"
      ]
     },
     "execution_count": 5,
     "metadata": {},
     "output_type": "execute_result"
    }
   ],
   "source": [
    "# to know the data types of the column\n",
    "df.dtypes"
   ]
  },
  {
   "cell_type": "code",
   "execution_count": 6,
   "id": "dc43c48d",
   "metadata": {},
   "outputs": [
    {
     "data": {
      "text/plain": [
       "(794, 15)"
      ]
     },
     "execution_count": 6,
     "metadata": {},
     "output_type": "execute_result"
    }
   ],
   "source": [
    "#1st data shows rows and another shows columns \n",
    "df.shape"
   ]
  },
  {
   "cell_type": "code",
   "execution_count": 7,
   "id": "d0fd0f5f",
   "metadata": {},
   "outputs": [
    {
     "name": "stdout",
     "output_type": "stream",
     "text": [
      "<class 'pandas.core.frame.DataFrame'>\n",
      "RangeIndex: 794 entries, 0 to 793\n",
      "Data columns (total 15 columns):\n",
      " #   Column        Non-Null Count  Dtype  \n",
      "---  ------        --------------  -----  \n",
      " 0   START         794 non-null    object \n",
      " 1   STOP          0 non-null      float64\n",
      " 2   PATIENT       794 non-null    object \n",
      " 3   ENCOUNTER     794 non-null    object \n",
      " 4   CODE          794 non-null    int64  \n",
      " 5   SYSTEM        794 non-null    object \n",
      " 6   DESCRIPTION   794 non-null    object \n",
      " 7   TYPE          794 non-null    object \n",
      " 8   CATEGORY      794 non-null    object \n",
      " 9   REACTION1     410 non-null    float64\n",
      " 10  DESCRIPTION1  410 non-null    object \n",
      " 11  SEVERITY1     410 non-null    object \n",
      " 12  REACTION2     259 non-null    float64\n",
      " 13  DESCRIPTION2  259 non-null    object \n",
      " 14  SEVERITY2     259 non-null    object \n",
      "dtypes: float64(3), int64(1), object(11)\n",
      "memory usage: 93.2+ KB\n"
     ]
    }
   ],
   "source": [
    "df.info()"
   ]
  },
  {
   "cell_type": "code",
   "execution_count": 8,
   "id": "a5a558f0",
   "metadata": {},
   "outputs": [
    {
     "data": {
      "text/html": [
       "<div>\n",
       "<style scoped>\n",
       "    .dataframe tbody tr th:only-of-type {\n",
       "        vertical-align: middle;\n",
       "    }\n",
       "\n",
       "    .dataframe tbody tr th {\n",
       "        vertical-align: top;\n",
       "    }\n",
       "\n",
       "    .dataframe thead th {\n",
       "        text-align: right;\n",
       "    }\n",
       "</style>\n",
       "<table border=\"1\" class=\"dataframe\">\n",
       "  <thead>\n",
       "    <tr style=\"text-align: right;\">\n",
       "      <th></th>\n",
       "      <th>START</th>\n",
       "      <th>STOP</th>\n",
       "      <th>PATIENT</th>\n",
       "      <th>ENCOUNTER</th>\n",
       "      <th>CODE</th>\n",
       "      <th>SYSTEM</th>\n",
       "      <th>DESCRIPTION</th>\n",
       "      <th>TYPE</th>\n",
       "      <th>CATEGORY</th>\n",
       "      <th>REACTION1</th>\n",
       "      <th>DESCRIPTION1</th>\n",
       "      <th>SEVERITY1</th>\n",
       "      <th>REACTION2</th>\n",
       "      <th>DESCRIPTION2</th>\n",
       "      <th>SEVERITY2</th>\n",
       "    </tr>\n",
       "  </thead>\n",
       "  <tbody>\n",
       "    <tr>\n",
       "      <th>count</th>\n",
       "      <td>794</td>\n",
       "      <td>0.0</td>\n",
       "      <td>794</td>\n",
       "      <td>794</td>\n",
       "      <td>7.940000e+02</td>\n",
       "      <td>794</td>\n",
       "      <td>794</td>\n",
       "      <td>794</td>\n",
       "      <td>794</td>\n",
       "      <td>4.100000e+02</td>\n",
       "      <td>410</td>\n",
       "      <td>410</td>\n",
       "      <td>2.590000e+02</td>\n",
       "      <td>259</td>\n",
       "      <td>259</td>\n",
       "    </tr>\n",
       "    <tr>\n",
       "      <th>unique</th>\n",
       "      <td>179</td>\n",
       "      <td>NaN</td>\n",
       "      <td>179</td>\n",
       "      <td>179</td>\n",
       "      <td>NaN</td>\n",
       "      <td>1</td>\n",
       "      <td>21</td>\n",
       "      <td>2</td>\n",
       "      <td>3</td>\n",
       "      <td>NaN</td>\n",
       "      <td>18</td>\n",
       "      <td>3</td>\n",
       "      <td>NaN</td>\n",
       "      <td>14</td>\n",
       "      <td>2</td>\n",
       "    </tr>\n",
       "    <tr>\n",
       "      <th>top</th>\n",
       "      <td>1993-05-27</td>\n",
       "      <td>NaN</td>\n",
       "      <td>20a75f26-b297-4120-72e6-602ee5e9f4e4</td>\n",
       "      <td>9aed9771-89ce-daa6-d81d-2c70e27410c8</td>\n",
       "      <td>NaN</td>\n",
       "      <td>Unknown</td>\n",
       "      <td>Mold (organism)</td>\n",
       "      <td>allergy</td>\n",
       "      <td>environment</td>\n",
       "      <td>NaN</td>\n",
       "      <td>Wheal (finding)</td>\n",
       "      <td>MODERATE</td>\n",
       "      <td>NaN</td>\n",
       "      <td>Eruption of skin (disorder)</td>\n",
       "      <td>MILD</td>\n",
       "    </tr>\n",
       "    <tr>\n",
       "      <th>freq</th>\n",
       "      <td>12</td>\n",
       "      <td>NaN</td>\n",
       "      <td>12</td>\n",
       "      <td>12</td>\n",
       "      <td>NaN</td>\n",
       "      <td>794</td>\n",
       "      <td>102</td>\n",
       "      <td>784</td>\n",
       "      <td>492</td>\n",
       "      <td>NaN</td>\n",
       "      <td>79</td>\n",
       "      <td>237</td>\n",
       "      <td>NaN</td>\n",
       "      <td>53</td>\n",
       "      <td>148</td>\n",
       "    </tr>\n",
       "    <tr>\n",
       "      <th>mean</th>\n",
       "      <td>NaN</td>\n",
       "      <td>NaN</td>\n",
       "      <td>NaN</td>\n",
       "      <td>NaN</td>\n",
       "      <td>1.672213e+13</td>\n",
       "      <td>NaN</td>\n",
       "      <td>NaN</td>\n",
       "      <td>NaN</td>\n",
       "      <td>NaN</td>\n",
       "      <td>2.974742e+08</td>\n",
       "      <td>NaN</td>\n",
       "      <td>NaN</td>\n",
       "      <td>3.380047e+08</td>\n",
       "      <td>NaN</td>\n",
       "      <td>NaN</td>\n",
       "    </tr>\n",
       "    <tr>\n",
       "      <th>std</th>\n",
       "      <td>NaN</td>\n",
       "      <td>NaN</td>\n",
       "      <td>NaN</td>\n",
       "      <td>NaN</td>\n",
       "      <td>8.443901e+13</td>\n",
       "      <td>NaN</td>\n",
       "      <td>NaN</td>\n",
       "      <td>NaN</td>\n",
       "      <td>NaN</td>\n",
       "      <td>2.803545e+08</td>\n",
       "      <td>NaN</td>\n",
       "      <td>NaN</td>\n",
       "      <td>2.374402e+08</td>\n",
       "      <td>NaN</td>\n",
       "      <td>NaN</td>\n",
       "    </tr>\n",
       "    <tr>\n",
       "      <th>min</th>\n",
       "      <td>NaN</td>\n",
       "      <td>NaN</td>\n",
       "      <td>NaN</td>\n",
       "      <td>NaN</td>\n",
       "      <td>1.191000e+03</td>\n",
       "      <td>NaN</td>\n",
       "      <td>NaN</td>\n",
       "      <td>NaN</td>\n",
       "      <td>NaN</td>\n",
       "      <td>2.152200e+07</td>\n",
       "      <td>NaN</td>\n",
       "      <td>NaN</td>\n",
       "      <td>2.162601e+07</td>\n",
       "      <td>NaN</td>\n",
       "      <td>NaN</td>\n",
       "    </tr>\n",
       "    <tr>\n",
       "      <th>25%</th>\n",
       "      <td>NaN</td>\n",
       "      <td>NaN</td>\n",
       "      <td>NaN</td>\n",
       "      <td>NaN</td>\n",
       "      <td>1.022630e+08</td>\n",
       "      <td>NaN</td>\n",
       "      <td>NaN</td>\n",
       "      <td>NaN</td>\n",
       "      <td>NaN</td>\n",
       "      <td>4.972700e+07</td>\n",
       "      <td>NaN</td>\n",
       "      <td>NaN</td>\n",
       "      <td>2.474720e+08</td>\n",
       "      <td>NaN</td>\n",
       "      <td>NaN</td>\n",
       "    </tr>\n",
       "    <tr>\n",
       "      <th>50%</th>\n",
       "      <td>NaN</td>\n",
       "      <td>NaN</td>\n",
       "      <td>NaN</td>\n",
       "      <td>NaN</td>\n",
       "      <td>2.601470e+08</td>\n",
       "      <td>NaN</td>\n",
       "      <td>NaN</td>\n",
       "      <td>NaN</td>\n",
       "      <td>NaN</td>\n",
       "      <td>2.474720e+08</td>\n",
       "      <td>NaN</td>\n",
       "      <td>NaN</td>\n",
       "      <td>2.718070e+08</td>\n",
       "      <td>NaN</td>\n",
       "      <td>NaN</td>\n",
       "    </tr>\n",
       "    <tr>\n",
       "      <th>75%</th>\n",
       "      <td>NaN</td>\n",
       "      <td>NaN</td>\n",
       "      <td>NaN</td>\n",
       "      <td>NaN</td>\n",
       "      <td>7.350290e+08</td>\n",
       "      <td>NaN</td>\n",
       "      <td>NaN</td>\n",
       "      <td>NaN</td>\n",
       "      <td>NaN</td>\n",
       "      <td>3.003590e+08</td>\n",
       "      <td>NaN</td>\n",
       "      <td>NaN</td>\n",
       "      <td>4.023870e+08</td>\n",
       "      <td>NaN</td>\n",
       "      <td>NaN</td>\n",
       "    </tr>\n",
       "    <tr>\n",
       "      <th>max</th>\n",
       "      <td>NaN</td>\n",
       "      <td>NaN</td>\n",
       "      <td>NaN</td>\n",
       "      <td>NaN</td>\n",
       "      <td>4.425710e+14</td>\n",
       "      <td>NaN</td>\n",
       "      <td>NaN</td>\n",
       "      <td>NaN</td>\n",
       "      <td>NaN</td>\n",
       "      <td>8.788200e+08</td>\n",
       "      <td>NaN</td>\n",
       "      <td>NaN</td>\n",
       "      <td>8.788200e+08</td>\n",
       "      <td>NaN</td>\n",
       "      <td>NaN</td>\n",
       "    </tr>\n",
       "  </tbody>\n",
       "</table>\n",
       "</div>"
      ],
      "text/plain": [
       "             START  STOP                               PATIENT  \\\n",
       "count          794   0.0                                   794   \n",
       "unique         179   NaN                                   179   \n",
       "top     1993-05-27   NaN  20a75f26-b297-4120-72e6-602ee5e9f4e4   \n",
       "freq            12   NaN                                    12   \n",
       "mean           NaN   NaN                                   NaN   \n",
       "std            NaN   NaN                                   NaN   \n",
       "min            NaN   NaN                                   NaN   \n",
       "25%            NaN   NaN                                   NaN   \n",
       "50%            NaN   NaN                                   NaN   \n",
       "75%            NaN   NaN                                   NaN   \n",
       "max            NaN   NaN                                   NaN   \n",
       "\n",
       "                                   ENCOUNTER          CODE   SYSTEM  \\\n",
       "count                                    794  7.940000e+02      794   \n",
       "unique                                   179           NaN        1   \n",
       "top     9aed9771-89ce-daa6-d81d-2c70e27410c8           NaN  Unknown   \n",
       "freq                                      12           NaN      794   \n",
       "mean                                     NaN  1.672213e+13      NaN   \n",
       "std                                      NaN  8.443901e+13      NaN   \n",
       "min                                      NaN  1.191000e+03      NaN   \n",
       "25%                                      NaN  1.022630e+08      NaN   \n",
       "50%                                      NaN  2.601470e+08      NaN   \n",
       "75%                                      NaN  7.350290e+08      NaN   \n",
       "max                                      NaN  4.425710e+14      NaN   \n",
       "\n",
       "            DESCRIPTION     TYPE     CATEGORY     REACTION1     DESCRIPTION1  \\\n",
       "count               794      794          794  4.100000e+02              410   \n",
       "unique               21        2            3           NaN               18   \n",
       "top     Mold (organism)  allergy  environment           NaN  Wheal (finding)   \n",
       "freq                102      784          492           NaN               79   \n",
       "mean                NaN      NaN          NaN  2.974742e+08              NaN   \n",
       "std                 NaN      NaN          NaN  2.803545e+08              NaN   \n",
       "min                 NaN      NaN          NaN  2.152200e+07              NaN   \n",
       "25%                 NaN      NaN          NaN  4.972700e+07              NaN   \n",
       "50%                 NaN      NaN          NaN  2.474720e+08              NaN   \n",
       "75%                 NaN      NaN          NaN  3.003590e+08              NaN   \n",
       "max                 NaN      NaN          NaN  8.788200e+08              NaN   \n",
       "\n",
       "       SEVERITY1     REACTION2                 DESCRIPTION2 SEVERITY2  \n",
       "count        410  2.590000e+02                          259       259  \n",
       "unique         3           NaN                           14         2  \n",
       "top     MODERATE           NaN  Eruption of skin (disorder)      MILD  \n",
       "freq         237           NaN                           53       148  \n",
       "mean         NaN  3.380047e+08                          NaN       NaN  \n",
       "std          NaN  2.374402e+08                          NaN       NaN  \n",
       "min          NaN  2.162601e+07                          NaN       NaN  \n",
       "25%          NaN  2.474720e+08                          NaN       NaN  \n",
       "50%          NaN  2.718070e+08                          NaN       NaN  \n",
       "75%          NaN  4.023870e+08                          NaN       NaN  \n",
       "max          NaN  8.788200e+08                          NaN       NaN  "
      ]
     },
     "execution_count": 8,
     "metadata": {},
     "output_type": "execute_result"
    }
   ],
   "source": [
    "df.describe(include=\"all\")\n",
    "# Most of the patients are having environment category allergy\n",
    "\n",
    "# Number of unique patient in the dataset is 179\n",
    "\n",
    "# In first description column many of them are Mold(organism) as a allergy\n",
    "\n",
    "# In second description column many of them are Wheal(finding) as a allergy\n",
    "\n",
    "# In third description column many of them are Eruption of skin(disorder) as a allergy\n",
    "\n",
    "# Most of the patient are having Moderate severity1 and number of times it occured was 237\n",
    "\n",
    "# Most of the patient are having Mild severity2 and number of times it occured was 148"
   ]
  },
  {
   "cell_type": "code",
   "execution_count": 9,
   "id": "cbae69c2",
   "metadata": {},
   "outputs": [
    {
     "data": {
      "text/plain": [
       "count                                      794\n",
       "unique                                     179\n",
       "top       20a75f26-b297-4120-72e6-602ee5e9f4e4\n",
       "freq                                        12\n",
       "Name: PATIENT, dtype: object"
      ]
     },
     "execution_count": 9,
     "metadata": {},
     "output_type": "execute_result"
    }
   ],
   "source": [
    "df['PATIENT'].describe()\n",
    "# The patient which has this 20a75f26-b297-4120-72e6-602ee5e9f4e4 has appeared most \n",
    "# of the times in the dataset and its frequency is 12 ."
   ]
  },
  {
   "cell_type": "code",
   "execution_count": 10,
   "id": "fd5262c9",
   "metadata": {},
   "outputs": [
    {
     "data": {
      "text/plain": [
       "count                                      794\n",
       "unique                                     179\n",
       "top       9aed9771-89ce-daa6-d81d-2c70e27410c8\n",
       "freq                                        12\n",
       "Name: ENCOUNTER, dtype: object"
      ]
     },
     "execution_count": 10,
     "metadata": {},
     "output_type": "execute_result"
    }
   ],
   "source": [
    "df['ENCOUNTER'].describe()\n",
    "# The patient which has this 9aed9771-89ce-daa6-d81d-2c70e27410c8 encountered many \n",
    "# times which is 12 times in the hospital "
   ]
  },
  {
   "cell_type": "code",
   "execution_count": 11,
   "id": "30e1af87",
   "metadata": {},
   "outputs": [
    {
     "data": {
      "text/plain": [
       "START             0\n",
       "STOP            794\n",
       "PATIENT           0\n",
       "ENCOUNTER         0\n",
       "CODE              0\n",
       "SYSTEM            0\n",
       "DESCRIPTION       0\n",
       "TYPE              0\n",
       "CATEGORY          0\n",
       "REACTION1       384\n",
       "DESCRIPTION1    384\n",
       "SEVERITY1       384\n",
       "REACTION2       535\n",
       "DESCRIPTION2    535\n",
       "SEVERITY2       535\n",
       "dtype: int64"
      ]
     },
     "execution_count": 11,
     "metadata": {},
     "output_type": "execute_result"
    }
   ],
   "source": [
    "#to check whether there is any missing value or not\n",
    "df.isnull().sum()"
   ]
  },
  {
   "cell_type": "code",
   "execution_count": 12,
   "id": "aabc300d",
   "metadata": {},
   "outputs": [
    {
     "name": "stdout",
     "output_type": "stream",
     "text": [
      "Index(['START', 'STOP', 'PATIENT', 'ENCOUNTER', 'CODE', 'SYSTEM',\n",
      "       'DESCRIPTION', 'TYPE', 'CATEGORY', 'REACTION1', 'DESCRIPTION1',\n",
      "       'SEVERITY1', 'REACTION2', 'DESCRIPTION2', 'SEVERITY2'],\n",
      "      dtype='object')\n"
     ]
    }
   ],
   "source": [
    "# Print all columns of the DataFrame\n",
    "print(df.columns)"
   ]
  },
  {
   "cell_type": "code",
   "execution_count": 13,
   "id": "dc71943e",
   "metadata": {},
   "outputs": [
    {
     "data": {
      "text/plain": [
       "(794, 12)"
      ]
     },
     "execution_count": 13,
     "metadata": {},
     "output_type": "execute_result"
    }
   ],
   "source": [
    "df.drop(['STOP','REACTION1','REACTION2'], axis=1, inplace=True)\n",
    "df.shape"
   ]
  },
  {
   "cell_type": "code",
   "execution_count": 14,
   "id": "178738bb",
   "metadata": {},
   "outputs": [
    {
     "name": "stdout",
     "output_type": "stream",
     "text": [
      "          START                               PATIENT  \\\n",
      "0    2020-02-17  b9c610cd-28a6-4636-ccb6-c7a0d2a4cb85   \n",
      "1    2020-02-17  b9c610cd-28a6-4636-ccb6-c7a0d2a4cb85   \n",
      "2    2020-02-17  b9c610cd-28a6-4636-ccb6-c7a0d2a4cb85   \n",
      "3    2020-02-17  b9c610cd-28a6-4636-ccb6-c7a0d2a4cb85   \n",
      "4    2020-02-17  b9c610cd-28a6-4636-ccb6-c7a0d2a4cb85   \n",
      "..          ...                                   ...   \n",
      "789  1987-05-20  27cb1c2f-4ec0-6e24-d080-e46178f712d5   \n",
      "790  2001-04-09  0cf08145-a634-329f-54d3-9cbd04ba18cc   \n",
      "791  2001-04-09  0cf08145-a634-329f-54d3-9cbd04ba18cc   \n",
      "792  1980-08-15  9c532b25-cd38-f13a-f2de-2f5538326ed6   \n",
      "793  1980-08-15  9c532b25-cd38-f13a-f2de-2f5538326ed6   \n",
      "\n",
      "                                ENCOUNTER             CODE   SYSTEM  \\\n",
      "0    01efcc52-15d6-51e9-faa2-bee069fcbe44        111088007  Unknown   \n",
      "1    01efcc52-15d6-51e9-faa2-bee069fcbe44         84489001  Unknown   \n",
      "2    01efcc52-15d6-51e9-faa2-bee069fcbe44        260147004  Unknown   \n",
      "3    01efcc52-15d6-51e9-faa2-bee069fcbe44        264287008  Unknown   \n",
      "4    01efcc52-15d6-51e9-faa2-bee069fcbe44        256277009  Unknown   \n",
      "..                                    ...              ...      ...   \n",
      "789  04d64fc5-6137-3d7a-06b6-dd6dc2d6a7c1  442571000124108  Unknown   \n",
      "790  ef2f78b9-750e-607b-f3f4-3de39ee2eeec             1191  Unknown   \n",
      "791  ef2f78b9-750e-607b-f3f4-3de39ee2eeec        102263004  Unknown   \n",
      "792  b3afbc77-ec8c-1cf8-05fe-740c91fa1d0f             1191  Unknown   \n",
      "793  b3afbc77-ec8c-1cf8-05fe-740c91fa1d0f        735029006  Unknown   \n",
      "\n",
      "                    DESCRIPTION     TYPE     CATEGORY  \\\n",
      "0             Latex (substance)  allergy  environment   \n",
      "1               Mold (organism)  allergy  environment   \n",
      "2    House dust mite (organism)  allergy  environment   \n",
      "3     Animal dander (substance)  allergy  environment   \n",
      "4      Grass pollen (substance)  allergy  environment   \n",
      "..                          ...      ...          ...   \n",
      "789        Tree nut (substance)  allergy         food   \n",
      "790                     Aspirin  allergy   medication   \n",
      "791   Eggs (edible) (substance)  allergy         food   \n",
      "792                     Aspirin  allergy   medication   \n",
      "793       Shellfish (substance)  allergy         food   \n",
      "\n",
      "                       DESCRIPTION1 SEVERITY1                 DESCRIPTION2  \\\n",
      "0                   Wheal (finding)      MILD                          NaN   \n",
      "1                          Sneezing      MILD                          NaN   \n",
      "2                               NaN       NaN                          NaN   \n",
      "3    Rhinoconjunctivitis (disorder)  MODERATE  Eruption of skin (disorder)   \n",
      "4                               NaN       NaN                          NaN   \n",
      "..                              ...       ...                          ...   \n",
      "789          Anaphylaxis (disorder)    SEVERE              Cough (finding)   \n",
      "790                 Wheal (finding)  MODERATE                          NaN   \n",
      "791                 Wheal (finding)  MODERATE                          NaN   \n",
      "792                             NaN       NaN                          NaN   \n",
      "793  Allergic angioedema (disorder)  MODERATE             Nausea (finding)   \n",
      "\n",
      "    SEVERITY2  \n",
      "0         NaN  \n",
      "1         NaN  \n",
      "2         NaN  \n",
      "3        MILD  \n",
      "4         NaN  \n",
      "..        ...  \n",
      "789  MODERATE  \n",
      "790       NaN  \n",
      "791       NaN  \n",
      "792       NaN  \n",
      "793  MODERATE  \n",
      "\n",
      "[794 rows x 12 columns]\n"
     ]
    }
   ],
   "source": [
    "# Print the DataFrame after dropping columns\n",
    "print(df)"
   ]
  },
  {
   "cell_type": "code",
   "execution_count": 15,
   "id": "05232e8a",
   "metadata": {},
   "outputs": [
    {
     "data": {
      "text/html": [
       "<div>\n",
       "<style scoped>\n",
       "    .dataframe tbody tr th:only-of-type {\n",
       "        vertical-align: middle;\n",
       "    }\n",
       "\n",
       "    .dataframe tbody tr th {\n",
       "        vertical-align: top;\n",
       "    }\n",
       "\n",
       "    .dataframe thead th {\n",
       "        text-align: right;\n",
       "    }\n",
       "</style>\n",
       "<table border=\"1\" class=\"dataframe\">\n",
       "  <thead>\n",
       "    <tr style=\"text-align: right;\">\n",
       "      <th></th>\n",
       "      <th>START</th>\n",
       "      <th>PATIENT</th>\n",
       "      <th>ENCOUNTER</th>\n",
       "      <th>CODE</th>\n",
       "      <th>SYSTEM</th>\n",
       "      <th>DESCRIPTION</th>\n",
       "      <th>TYPE</th>\n",
       "      <th>CATEGORY</th>\n",
       "      <th>DESCRIPTION1</th>\n",
       "      <th>SEVERITY1</th>\n",
       "      <th>DESCRIPTION2</th>\n",
       "      <th>SEVERITY2</th>\n",
       "    </tr>\n",
       "  </thead>\n",
       "  <tbody>\n",
       "    <tr>\n",
       "      <th>0</th>\n",
       "      <td>2020-02-17</td>\n",
       "      <td>b9c610cd-28a6-4636-ccb6-c7a0d2a4cb85</td>\n",
       "      <td>01efcc52-15d6-51e9-faa2-bee069fcbe44</td>\n",
       "      <td>111088007</td>\n",
       "      <td>Unknown</td>\n",
       "      <td>Latex (substance)</td>\n",
       "      <td>allergy</td>\n",
       "      <td>environment</td>\n",
       "      <td>Wheal (finding)</td>\n",
       "      <td>MILD</td>\n",
       "      <td>NaN</td>\n",
       "      <td>NaN</td>\n",
       "    </tr>\n",
       "    <tr>\n",
       "      <th>1</th>\n",
       "      <td>2020-02-17</td>\n",
       "      <td>b9c610cd-28a6-4636-ccb6-c7a0d2a4cb85</td>\n",
       "      <td>01efcc52-15d6-51e9-faa2-bee069fcbe44</td>\n",
       "      <td>84489001</td>\n",
       "      <td>Unknown</td>\n",
       "      <td>Mold (organism)</td>\n",
       "      <td>allergy</td>\n",
       "      <td>environment</td>\n",
       "      <td>Sneezing</td>\n",
       "      <td>MILD</td>\n",
       "      <td>NaN</td>\n",
       "      <td>NaN</td>\n",
       "    </tr>\n",
       "    <tr>\n",
       "      <th>2</th>\n",
       "      <td>2020-02-17</td>\n",
       "      <td>b9c610cd-28a6-4636-ccb6-c7a0d2a4cb85</td>\n",
       "      <td>01efcc52-15d6-51e9-faa2-bee069fcbe44</td>\n",
       "      <td>260147004</td>\n",
       "      <td>Unknown</td>\n",
       "      <td>House dust mite (organism)</td>\n",
       "      <td>allergy</td>\n",
       "      <td>environment</td>\n",
       "      <td>NaN</td>\n",
       "      <td>NaN</td>\n",
       "      <td>NaN</td>\n",
       "      <td>NaN</td>\n",
       "    </tr>\n",
       "    <tr>\n",
       "      <th>3</th>\n",
       "      <td>2020-02-17</td>\n",
       "      <td>b9c610cd-28a6-4636-ccb6-c7a0d2a4cb85</td>\n",
       "      <td>01efcc52-15d6-51e9-faa2-bee069fcbe44</td>\n",
       "      <td>264287008</td>\n",
       "      <td>Unknown</td>\n",
       "      <td>Animal dander (substance)</td>\n",
       "      <td>allergy</td>\n",
       "      <td>environment</td>\n",
       "      <td>Rhinoconjunctivitis (disorder)</td>\n",
       "      <td>MODERATE</td>\n",
       "      <td>Eruption of skin (disorder)</td>\n",
       "      <td>MILD</td>\n",
       "    </tr>\n",
       "    <tr>\n",
       "      <th>4</th>\n",
       "      <td>2020-02-17</td>\n",
       "      <td>b9c610cd-28a6-4636-ccb6-c7a0d2a4cb85</td>\n",
       "      <td>01efcc52-15d6-51e9-faa2-bee069fcbe44</td>\n",
       "      <td>256277009</td>\n",
       "      <td>Unknown</td>\n",
       "      <td>Grass pollen (substance)</td>\n",
       "      <td>allergy</td>\n",
       "      <td>environment</td>\n",
       "      <td>NaN</td>\n",
       "      <td>NaN</td>\n",
       "      <td>NaN</td>\n",
       "      <td>NaN</td>\n",
       "    </tr>\n",
       "  </tbody>\n",
       "</table>\n",
       "</div>"
      ],
      "text/plain": [
       "        START                               PATIENT  \\\n",
       "0  2020-02-17  b9c610cd-28a6-4636-ccb6-c7a0d2a4cb85   \n",
       "1  2020-02-17  b9c610cd-28a6-4636-ccb6-c7a0d2a4cb85   \n",
       "2  2020-02-17  b9c610cd-28a6-4636-ccb6-c7a0d2a4cb85   \n",
       "3  2020-02-17  b9c610cd-28a6-4636-ccb6-c7a0d2a4cb85   \n",
       "4  2020-02-17  b9c610cd-28a6-4636-ccb6-c7a0d2a4cb85   \n",
       "\n",
       "                              ENCOUNTER       CODE   SYSTEM  \\\n",
       "0  01efcc52-15d6-51e9-faa2-bee069fcbe44  111088007  Unknown   \n",
       "1  01efcc52-15d6-51e9-faa2-bee069fcbe44   84489001  Unknown   \n",
       "2  01efcc52-15d6-51e9-faa2-bee069fcbe44  260147004  Unknown   \n",
       "3  01efcc52-15d6-51e9-faa2-bee069fcbe44  264287008  Unknown   \n",
       "4  01efcc52-15d6-51e9-faa2-bee069fcbe44  256277009  Unknown   \n",
       "\n",
       "                  DESCRIPTION     TYPE     CATEGORY  \\\n",
       "0           Latex (substance)  allergy  environment   \n",
       "1             Mold (organism)  allergy  environment   \n",
       "2  House dust mite (organism)  allergy  environment   \n",
       "3   Animal dander (substance)  allergy  environment   \n",
       "4    Grass pollen (substance)  allergy  environment   \n",
       "\n",
       "                     DESCRIPTION1 SEVERITY1                 DESCRIPTION2  \\\n",
       "0                 Wheal (finding)      MILD                          NaN   \n",
       "1                        Sneezing      MILD                          NaN   \n",
       "2                             NaN       NaN                          NaN   \n",
       "3  Rhinoconjunctivitis (disorder)  MODERATE  Eruption of skin (disorder)   \n",
       "4                             NaN       NaN                          NaN   \n",
       "\n",
       "  SEVERITY2  \n",
       "0       NaN  \n",
       "1       NaN  \n",
       "2       NaN  \n",
       "3      MILD  \n",
       "4       NaN  "
      ]
     },
     "execution_count": 15,
     "metadata": {},
     "output_type": "execute_result"
    }
   ],
   "source": [
    "df.head()"
   ]
  },
  {
   "cell_type": "code",
   "execution_count": 16,
   "id": "c16e748c",
   "metadata": {},
   "outputs": [
    {
     "data": {
      "text/plain": [
       "START             0\n",
       "PATIENT           0\n",
       "ENCOUNTER         0\n",
       "CODE              0\n",
       "SYSTEM            0\n",
       "DESCRIPTION       0\n",
       "TYPE              0\n",
       "CATEGORY          0\n",
       "DESCRIPTION1    384\n",
       "SEVERITY1       384\n",
       "DESCRIPTION2    535\n",
       "SEVERITY2       535\n",
       "dtype: int64"
      ]
     },
     "execution_count": 16,
     "metadata": {},
     "output_type": "execute_result"
    }
   ],
   "source": [
    "df.isnull().sum()"
   ]
  },
  {
   "cell_type": "code",
   "execution_count": 17,
   "id": "1cc505dc",
   "metadata": {},
   "outputs": [],
   "source": [
    "df.fillna(0, inplace=True)"
   ]
  },
  {
   "cell_type": "code",
   "execution_count": 18,
   "id": "719ffaa0",
   "metadata": {},
   "outputs": [
    {
     "data": {
      "text/plain": [
       "START           0\n",
       "PATIENT         0\n",
       "ENCOUNTER       0\n",
       "CODE            0\n",
       "SYSTEM          0\n",
       "DESCRIPTION     0\n",
       "TYPE            0\n",
       "CATEGORY        0\n",
       "DESCRIPTION1    0\n",
       "SEVERITY1       0\n",
       "DESCRIPTION2    0\n",
       "SEVERITY2       0\n",
       "dtype: int64"
      ]
     },
     "execution_count": 18,
     "metadata": {},
     "output_type": "execute_result"
    }
   ],
   "source": [
    "df.isnull().sum()"
   ]
  },
  {
   "cell_type": "code",
   "execution_count": 19,
   "id": "5e775adb",
   "metadata": {},
   "outputs": [
    {
     "data": {
      "text/html": [
       "<div>\n",
       "<style scoped>\n",
       "    .dataframe tbody tr th:only-of-type {\n",
       "        vertical-align: middle;\n",
       "    }\n",
       "\n",
       "    .dataframe tbody tr th {\n",
       "        vertical-align: top;\n",
       "    }\n",
       "\n",
       "    .dataframe thead th {\n",
       "        text-align: right;\n",
       "    }\n",
       "</style>\n",
       "<table border=\"1\" class=\"dataframe\">\n",
       "  <thead>\n",
       "    <tr style=\"text-align: right;\">\n",
       "      <th></th>\n",
       "      <th>START</th>\n",
       "      <th>PATIENT</th>\n",
       "      <th>ENCOUNTER</th>\n",
       "      <th>CODE</th>\n",
       "      <th>SYSTEM</th>\n",
       "      <th>DESCRIPTION</th>\n",
       "      <th>TYPE</th>\n",
       "      <th>CATEGORY</th>\n",
       "      <th>DESCRIPTION1</th>\n",
       "      <th>SEVERITY1</th>\n",
       "      <th>DESCRIPTION2</th>\n",
       "      <th>SEVERITY2</th>\n",
       "    </tr>\n",
       "  </thead>\n",
       "  <tbody>\n",
       "    <tr>\n",
       "      <th>0</th>\n",
       "      <td>2020-02-17</td>\n",
       "      <td>b9c610cd-28a6-4636-ccb6-c7a0d2a4cb85</td>\n",
       "      <td>01efcc52-15d6-51e9-faa2-bee069fcbe44</td>\n",
       "      <td>111088007</td>\n",
       "      <td>Unknown</td>\n",
       "      <td>Latex (substance)</td>\n",
       "      <td>allergy</td>\n",
       "      <td>environment</td>\n",
       "      <td>Wheal (finding)</td>\n",
       "      <td>MILD</td>\n",
       "      <td>0</td>\n",
       "      <td>0</td>\n",
       "    </tr>\n",
       "    <tr>\n",
       "      <th>1</th>\n",
       "      <td>2020-02-17</td>\n",
       "      <td>b9c610cd-28a6-4636-ccb6-c7a0d2a4cb85</td>\n",
       "      <td>01efcc52-15d6-51e9-faa2-bee069fcbe44</td>\n",
       "      <td>84489001</td>\n",
       "      <td>Unknown</td>\n",
       "      <td>Mold (organism)</td>\n",
       "      <td>allergy</td>\n",
       "      <td>environment</td>\n",
       "      <td>Sneezing</td>\n",
       "      <td>MILD</td>\n",
       "      <td>0</td>\n",
       "      <td>0</td>\n",
       "    </tr>\n",
       "    <tr>\n",
       "      <th>2</th>\n",
       "      <td>2020-02-17</td>\n",
       "      <td>b9c610cd-28a6-4636-ccb6-c7a0d2a4cb85</td>\n",
       "      <td>01efcc52-15d6-51e9-faa2-bee069fcbe44</td>\n",
       "      <td>260147004</td>\n",
       "      <td>Unknown</td>\n",
       "      <td>House dust mite (organism)</td>\n",
       "      <td>allergy</td>\n",
       "      <td>environment</td>\n",
       "      <td>0</td>\n",
       "      <td>0</td>\n",
       "      <td>0</td>\n",
       "      <td>0</td>\n",
       "    </tr>\n",
       "    <tr>\n",
       "      <th>3</th>\n",
       "      <td>2020-02-17</td>\n",
       "      <td>b9c610cd-28a6-4636-ccb6-c7a0d2a4cb85</td>\n",
       "      <td>01efcc52-15d6-51e9-faa2-bee069fcbe44</td>\n",
       "      <td>264287008</td>\n",
       "      <td>Unknown</td>\n",
       "      <td>Animal dander (substance)</td>\n",
       "      <td>allergy</td>\n",
       "      <td>environment</td>\n",
       "      <td>Rhinoconjunctivitis (disorder)</td>\n",
       "      <td>MODERATE</td>\n",
       "      <td>Eruption of skin (disorder)</td>\n",
       "      <td>MILD</td>\n",
       "    </tr>\n",
       "    <tr>\n",
       "      <th>4</th>\n",
       "      <td>2020-02-17</td>\n",
       "      <td>b9c610cd-28a6-4636-ccb6-c7a0d2a4cb85</td>\n",
       "      <td>01efcc52-15d6-51e9-faa2-bee069fcbe44</td>\n",
       "      <td>256277009</td>\n",
       "      <td>Unknown</td>\n",
       "      <td>Grass pollen (substance)</td>\n",
       "      <td>allergy</td>\n",
       "      <td>environment</td>\n",
       "      <td>0</td>\n",
       "      <td>0</td>\n",
       "      <td>0</td>\n",
       "      <td>0</td>\n",
       "    </tr>\n",
       "  </tbody>\n",
       "</table>\n",
       "</div>"
      ],
      "text/plain": [
       "        START                               PATIENT  \\\n",
       "0  2020-02-17  b9c610cd-28a6-4636-ccb6-c7a0d2a4cb85   \n",
       "1  2020-02-17  b9c610cd-28a6-4636-ccb6-c7a0d2a4cb85   \n",
       "2  2020-02-17  b9c610cd-28a6-4636-ccb6-c7a0d2a4cb85   \n",
       "3  2020-02-17  b9c610cd-28a6-4636-ccb6-c7a0d2a4cb85   \n",
       "4  2020-02-17  b9c610cd-28a6-4636-ccb6-c7a0d2a4cb85   \n",
       "\n",
       "                              ENCOUNTER       CODE   SYSTEM  \\\n",
       "0  01efcc52-15d6-51e9-faa2-bee069fcbe44  111088007  Unknown   \n",
       "1  01efcc52-15d6-51e9-faa2-bee069fcbe44   84489001  Unknown   \n",
       "2  01efcc52-15d6-51e9-faa2-bee069fcbe44  260147004  Unknown   \n",
       "3  01efcc52-15d6-51e9-faa2-bee069fcbe44  264287008  Unknown   \n",
       "4  01efcc52-15d6-51e9-faa2-bee069fcbe44  256277009  Unknown   \n",
       "\n",
       "                  DESCRIPTION     TYPE     CATEGORY  \\\n",
       "0           Latex (substance)  allergy  environment   \n",
       "1             Mold (organism)  allergy  environment   \n",
       "2  House dust mite (organism)  allergy  environment   \n",
       "3   Animal dander (substance)  allergy  environment   \n",
       "4    Grass pollen (substance)  allergy  environment   \n",
       "\n",
       "                     DESCRIPTION1 SEVERITY1                 DESCRIPTION2  \\\n",
       "0                 Wheal (finding)      MILD                            0   \n",
       "1                        Sneezing      MILD                            0   \n",
       "2                               0         0                            0   \n",
       "3  Rhinoconjunctivitis (disorder)  MODERATE  Eruption of skin (disorder)   \n",
       "4                               0         0                            0   \n",
       "\n",
       "  SEVERITY2  \n",
       "0         0  \n",
       "1         0  \n",
       "2         0  \n",
       "3      MILD  \n",
       "4         0  "
      ]
     },
     "execution_count": 19,
     "metadata": {},
     "output_type": "execute_result"
    }
   ],
   "source": [
    "df.head()"
   ]
  },
  {
   "cell_type": "code",
   "execution_count": 20,
   "id": "4ffb50b4",
   "metadata": {},
   "outputs": [
    {
     "data": {
      "text/plain": [
       "environment    492\n",
       "food           234\n",
       "medication      68\n",
       "Name: CATEGORY, dtype: int64"
      ]
     },
     "execution_count": 20,
     "metadata": {},
     "output_type": "execute_result"
    }
   ],
   "source": [
    "df.CATEGORY.value_counts()"
   ]
  },
  {
   "cell_type": "code",
   "execution_count": 21,
   "id": "920361ba",
   "metadata": {},
   "outputs": [
    {
     "data": {
      "text/plain": [
       "(794, 12)"
      ]
     },
     "execution_count": 21,
     "metadata": {},
     "output_type": "execute_result"
    }
   ],
   "source": [
    "df.shape"
   ]
  },
  {
   "cell_type": "code",
   "execution_count": 22,
   "id": "dc1776fa",
   "metadata": {},
   "outputs": [
    {
     "data": {
      "text/plain": [
       "794"
      ]
     },
     "execution_count": 22,
     "metadata": {},
     "output_type": "execute_result"
    }
   ],
   "source": [
    "492+234+68"
   ]
  },
  {
   "cell_type": "code",
   "execution_count": 23,
   "id": "9f8947cc",
   "metadata": {},
   "outputs": [
    {
     "data": {
      "text/plain": [
       "0           384\n",
       "MODERATE    237\n",
       "MILD        124\n",
       "SEVERE       49\n",
       "Name: SEVERITY1, dtype: int64"
      ]
     },
     "execution_count": 23,
     "metadata": {},
     "output_type": "execute_result"
    }
   ],
   "source": [
    "df.SEVERITY1.value_counts()"
   ]
  },
  {
   "cell_type": "code",
   "execution_count": 24,
   "id": "eb04937b",
   "metadata": {},
   "outputs": [
    {
     "data": {
      "text/plain": [
       "0           535\n",
       "MILD        148\n",
       "MODERATE    111\n",
       "Name: SEVERITY2, dtype: int64"
      ]
     },
     "execution_count": 24,
     "metadata": {},
     "output_type": "execute_result"
    }
   ],
   "source": [
    "df.SEVERITY2.value_counts()"
   ]
  },
  {
   "cell_type": "code",
   "execution_count": 25,
   "id": "1a82b6a9",
   "metadata": {},
   "outputs": [
    {
     "name": "stdout",
     "output_type": "stream",
     "text": [
      "Number of unique patients with organism-related allergies: 103\n"
     ]
    }
   ],
   "source": [
    "# Group the data by patient and check for \"organism\" in DESCRIPTION\n",
    "patients_with_organism_allergies = df.groupby(\"PATIENT\").filter(lambda group: any(group[\"DESCRIPTION\"].str.contains(\"organism\", case=False, na=False)))\n",
    "\n",
    "# Count the unique patients\n",
    "unique_patients_count = patients_with_organism_allergies[\"PATIENT\"].nunique()\n",
    "\n",
    "print(f\"Number of unique patients with organism-related allergies: {unique_patients_count}\")\n",
    "\n",
    "# Number of unique patients which are having organism related allergy in their description are 103 "
   ]
  },
  {
   "cell_type": "code",
   "execution_count": 26,
   "id": "be5906ae",
   "metadata": {},
   "outputs": [
    {
     "name": "stdout",
     "output_type": "stream",
     "text": [
      "Number of unique patients in the dataset: 179\n"
     ]
    }
   ],
   "source": [
    "# Find the number of unique patients\n",
    "unique_patients_count = df[\"PATIENT\"].nunique()\n",
    "\n",
    "print(f\"Number of unique patients in the dataset: {unique_patients_count}\")\n",
    "\n",
    "# Number of unique patients in the dataset are 179"
   ]
  },
  {
   "cell_type": "code",
   "execution_count": 27,
   "id": "e82414c0",
   "metadata": {},
   "outputs": [
    {
     "name": "stdout",
     "output_type": "stream",
     "text": [
      "Number of unique patients with substance in DESCRIPTION: 162\n"
     ]
    }
   ],
   "source": [
    "# Filter rows where 'DESCRIPTION' contains a substance\n",
    "substance_present = df[df['DESCRIPTION'].str.contains('substance', case=False, na=False)]\n",
    "\n",
    "# Count the number of unique patients with a substance in 'DESCRIPTION'\n",
    "unique_patients_with_substance = substance_present['PATIENT'].nunique()\n",
    "\n",
    "print(f\"Number of unique patients with substance in DESCRIPTION: {unique_patients_with_substance}\")\n",
    "\n",
    "# Number of unique patients which are having substance as allergy in their description \n",
    "# are 162"
   ]
  },
  {
   "cell_type": "code",
   "execution_count": 28,
   "id": "a4726388",
   "metadata": {},
   "outputs": [
    {
     "name": "stdout",
     "output_type": "stream",
     "text": [
      "['MILD' 0 'MODERATE' 'SEVERE']\n"
     ]
    }
   ],
   "source": [
    "# Get all unique values in the \"SEVERITY1\" column\n",
    "unique_severity1_values = df['SEVERITY1'].unique()\n",
    "\n",
    "# Print the unique values\n",
    "print(unique_severity1_values)"
   ]
  },
  {
   "cell_type": "code",
   "execution_count": 29,
   "id": "a446c4c7",
   "metadata": {},
   "outputs": [
    {
     "name": "stdout",
     "output_type": "stream",
     "text": [
      "[0 'MILD' 'MODERATE']\n"
     ]
    }
   ],
   "source": [
    "# Get all unique values in the \"SEVERITY2\" column\n",
    "unique_severity2_values = df['SEVERITY2'].unique()\n",
    "\n",
    "# Print the unique values\n",
    "print(unique_severity2_values)"
   ]
  },
  {
   "cell_type": "code",
   "execution_count": 30,
   "id": "8f895fce",
   "metadata": {},
   "outputs": [
    {
     "name": "stdout",
     "output_type": "stream",
     "text": [
      "Number of unique patients with 'Severe' in SEVERITY1: 42\n"
     ]
    }
   ],
   "source": [
    "# Filter the DataFrame to include only rows where SEVERITY1 is 'Severe'\n",
    "severe_cases_df = df[df['SEVERITY1'] == 'SEVERE']\n",
    "\n",
    "# Count the number of unique patients in the filtered DataFrame\n",
    "unique_patients_with_severe_cases = severe_cases_df['PATIENT'].nunique()\n",
    "\n",
    "# Print the count\n",
    "print(\"Number of unique patients with 'Severe' in SEVERITY1:\", unique_patients_with_severe_cases)\n",
    "\n",
    "# Number of unique patients which are having severe severity1 with aspect of description1 \n",
    "# are 42"
   ]
  },
  {
   "cell_type": "code",
   "execution_count": 31,
   "id": "91823bfe",
   "metadata": {},
   "outputs": [
    {
     "name": "stdout",
     "output_type": "stream",
     "text": [
      "Number of unique patients with 'MILD' in SEVERITY1: 85\n"
     ]
    }
   ],
   "source": [
    "# Filter the DataFrame to include only rows where SEVERITY1 is 'MILD'\n",
    "mild_cases_df = df[df['SEVERITY1'] == 'MILD']\n",
    "\n",
    "# Count the number of unique patients in the filtered DataFrame\n",
    "unique_patients_with_mild_cases = mild_cases_df['PATIENT'].nunique()\n",
    "\n",
    "# Print the count\n",
    "print(\"Number of unique patients with 'MILD' in SEVERITY1:\", unique_patients_with_mild_cases)\n",
    "\n",
    "# Number of unique patients which are having mild severity1 with aspect of description1 \n",
    "# are 85 \n"
   ]
  },
  {
   "cell_type": "code",
   "execution_count": 32,
   "id": "b778fd5e",
   "metadata": {},
   "outputs": [
    {
     "name": "stdout",
     "output_type": "stream",
     "text": [
      "Number of unique patients with 'MODERATE' in SEVERITY1: 129\n"
     ]
    }
   ],
   "source": [
    "# Filter the DataFrame to include only rows where SEVERITY1 is 'MODERATE'\n",
    "moderate_cases_df = df[df['SEVERITY1'] == 'MODERATE']\n",
    "\n",
    "# Count the number of unique patients in the filtered DataFrame\n",
    "unique_patients_with_moderate_cases = moderate_cases_df['PATIENT'].nunique()\n",
    "\n",
    "# Print the count\n",
    "print(\"Number of unique patients with 'MODERATE' in SEVERITY1:\", unique_patients_with_moderate_cases)\n",
    "\n",
    "# Number of unique patients which are having moderate severity1 with aspect of description1 \n",
    "# are 129\n"
   ]
  },
  {
   "cell_type": "code",
   "execution_count": 54,
   "id": "6aec8653",
   "metadata": {},
   "outputs": [
    {
     "data": {
      "image/png": "[encoded data removed]",
      "text/plain": [
       "<Figure size 800x600 with 1 Axes>"
      ]
     },
     "metadata": {},
     "output_type": "display_data"
    }
   ],
   "source": [
    "# Filter the DataFrame to include only rows where SEVERITY1 is 'Severe', 'MILD', and 'MODERATE'\n",
    "severe_cases_df = df[df['SEVERITY1'] == 'SEVERE']\n",
    "mild_cases_df = df[df['SEVERITY1'] == 'MILD']\n",
    "moderate_cases_df = df[df['SEVERITY1'] == 'MODERATE']\n",
    "\n",
    "# Count the number of unique patients with each severity level\n",
    "unique_patients_with_severe_cases = severe_cases_df['PATIENT'].nunique()\n",
    "unique_patients_with_mild_cases = mild_cases_df['PATIENT'].nunique()\n",
    "unique_patients_with_moderate_cases = moderate_cases_df['PATIENT'].nunique()\n",
    "\n",
    "# Create data for the bar chart\n",
    "severity_labels = ['Severe', 'MILD', 'MODERATE']\n",
    "patient_counts = [unique_patients_with_severe_cases, unique_patients_with_mild_cases, unique_patients_with_moderate_cases]\n",
    "\n",
    "# Create a bar chart\n",
    "plt.figure(figsize=(8, 6))\n",
    "bars = plt.bar(severity_labels, patient_counts, color=['red', 'blue', 'green'])\n",
    "plt.xlabel('Severity Level in SEVERITY1')\n",
    "plt.ylabel('Number of Unique Patients')\n",
    "plt.title('Unique Patients by Severity in SEVERITY1')\n",
    "\n",
    "# Add count labels on top of each bar\n",
    "for bar, count in zip(bars, patient_counts):\n",
    "    plt.text(bar.get_x() + bar.get_width() / 2, count, str(count), ha='center', va='bottom')\n",
    "\n",
    "plt.show()\n"
   ]
  },
  {
   "cell_type": "code",
   "execution_count": 33,
   "id": "199bbef9",
   "metadata": {},
   "outputs": [
    {
     "name": "stdout",
     "output_type": "stream",
     "text": [
      "Number of unique patients with 'MILD' in SEVERITY2: 96\n"
     ]
    }
   ],
   "source": [
    "# Filter the DataFrame to include only rows where SEVERITY2 is 'MILD'\n",
    "mild_cases_df = df[df['SEVERITY2'] == 'MILD']\n",
    "\n",
    "# Count the number of unique patients in the filtered DataFrame\n",
    "unique_patients_with_mild_cases = mild_cases_df['PATIENT'].nunique()\n",
    "\n",
    "# Print the count\n",
    "print(\"Number of unique patients with 'MILD' in SEVERITY2:\", unique_patients_with_mild_cases)\n",
    "\n",
    "# Number of unique patients which are having mild severity2 with aspect of Description2 are 96 "
   ]
  },
  {
   "cell_type": "code",
   "execution_count": 34,
   "id": "f75b1af0",
   "metadata": {},
   "outputs": [
    {
     "name": "stdout",
     "output_type": "stream",
     "text": [
      "Number of unique patients with 'MODERATE' in SEVERITY2: 88\n"
     ]
    }
   ],
   "source": [
    "# Filter the DataFrame to include only rows where SEVERITY2 is 'MODERATE'\n",
    "moderate_cases_df = df[df['SEVERITY2'] == 'MODERATE']\n",
    "\n",
    "# Count the number of unique patients in the filtered DataFrame\n",
    "unique_patients_with_moderate_cases = moderate_cases_df['PATIENT'].nunique()\n",
    "\n",
    "# Print the count\n",
    "print(\"Number of unique patients with 'MODERATE' in SEVERITY2:\", unique_patients_with_moderate_cases)\n",
    "\n",
    "# Number of unique patients which are having moderate severity2 with aspect of Description2 are 88"
   ]
  },
  {
   "cell_type": "code",
   "execution_count": 52,
   "id": "3facfa63",
   "metadata": {},
   "outputs": [
    {
     "data": {
      "image/png": "[encoded data removed]",
      "text/plain": [
       "<Figure size 640x480 with 1 Axes>"
      ]
     },
     "metadata": {},
     "output_type": "display_data"
    }
   ],
   "source": [
    "# Filter the DataFrame to include only rows where SEVERITY2 is 'MILD' and 'MODERATE'\n",
    "mild_cases_df = df[df['SEVERITY2'] == 'MILD']\n",
    "moderate_cases_df = df[df['SEVERITY2'] == 'MODERATE']\n",
    "\n",
    "# Count the number of unique patients with 'MILD' and 'MODERATE' severity\n",
    "unique_patients_with_mild_cases = mild_cases_df['PATIENT'].nunique()\n",
    "unique_patients_with_moderate_cases = moderate_cases_df['PATIENT'].nunique()\n",
    "\n",
    "# Create data for the donut chart\n",
    "severity_labels = ['MILD', 'MODERATE']\n",
    "patient_counts = [unique_patients_with_mild_cases, unique_patients_with_moderate_cases]\n",
    "colors = ['lightblue', 'lightgreen']\n",
    "\n",
    "# Create a pie chart (autopct='%1.1f%%' adds percentage labels)\n",
    "fig, ax = plt.subplots()\n",
    "ax.pie(patient_counts, labels=severity_labels, colors=colors, autopct='%1.1f%%', startangle=90, wedgeprops=dict(width=0.4))\n",
    "\n",
    "# Draw a circle in the center to make it a donut chart\n",
    "center_circle = plt.Circle((0, 0), 0.70, fc='white')\n",
    "fig.gca().add_artist(center_circle)\n",
    "\n",
    "# Equal aspect ratio ensures that pie is drawn as a circle\n",
    "ax.axis('equal')\n",
    "\n",
    "# Add a title\n",
    "plt.title('Unique Patients by Severity in SEVERITY2')\n",
    "\n",
    "# Display the chart\n",
    "plt.show()\n"
   ]
  },
  {
   "cell_type": "code",
   "execution_count": 35,
   "id": "f26c3c27",
   "metadata": {},
   "outputs": [
    {
     "name": "stdout",
     "output_type": "stream",
     "text": [
      "Number of unique patients with 'environment' in CATEGORY: 123\n"
     ]
    }
   ],
   "source": [
    "# Filter the DataFrame to include only rows where CATEGORY is 'environment'\n",
    "environment_cases_df = df[df['CATEGORY'] == 'environment']\n",
    "\n",
    "# Count the number of unique patients in the filtered DataFrame\n",
    "unique_patients_with_environment_cases = environment_cases_df['PATIENT'].nunique()\n",
    "\n",
    "# Print the count\n",
    "print(\"Number of unique patients with 'environment' in CATEGORY:\", unique_patients_with_environment_cases)\n",
    "\n",
    "# Number of unique patients which are having environment type of allergies are 123"
   ]
  },
  {
   "cell_type": "code",
   "execution_count": 36,
   "id": "a4898a8c",
   "metadata": {},
   "outputs": [
    {
     "name": "stdout",
     "output_type": "stream",
     "text": [
      "Number of unique patients with 'medication' in CATEGORY: 59\n"
     ]
    }
   ],
   "source": [
    "# Filter the DataFrame to include only rows where CATEGORY is 'medication'\n",
    "medication_cases_df = df[df['CATEGORY'] == 'medication']\n",
    "\n",
    "# Count the number of unique patients in the filtered DataFrame\n",
    "unique_patients_with_medication_cases = medication_cases_df['PATIENT'].nunique()\n",
    "\n",
    "# Print the count\n",
    "print(\"Number of unique patients with 'medication' in CATEGORY:\", unique_patients_with_medication_cases)\n",
    "\n",
    "# Number of unique patients which are having medication type of allergies are 59"
   ]
  },
  {
   "cell_type": "code",
   "execution_count": 37,
   "id": "0a9d6fed",
   "metadata": {},
   "outputs": [
    {
     "name": "stdout",
     "output_type": "stream",
     "text": [
      "Number of unique patients with 'food' in CATEGORY: 139\n"
     ]
    }
   ],
   "source": [
    "# Filter the DataFrame to include only rows where CATEGORY is 'food'\n",
    "food_cases_df = df[df['CATEGORY'] == 'food']\n",
    "\n",
    "# Count the number of unique patients in the filtered DataFrame\n",
    "unique_patients_with_food_cases = food_cases_df['PATIENT'].nunique()\n",
    "\n",
    "# Print the count\n",
    "print(\"Number of unique patients with 'food' in CATEGORY:\", unique_patients_with_food_cases)\n",
    "\n",
    "# Number of unique patients which are having food type of allergies are 139 "
   ]
  },
  {
   "cell_type": "code",
   "execution_count": 50,
   "id": "70dc8855",
   "metadata": {},
   "outputs": [
    {
     "name": "stdout",
     "output_type": "stream",
     "text": [
      "Unique Patients in 'food' CATEGORY: 139\n",
      "Unique Patients in 'environment' CATEGORY: 123\n",
      "Unique Patients in 'medication' CATEGORY: 59\n"
     ]
    }
   ],
   "source": [
    "# Count the number of unique patients for each CATEGORY\n",
    "food_patients = df[df['CATEGORY'] == 'food']['PATIENT'].nunique()\n",
    "environment_patients = df[df['CATEGORY'] == 'environment']['PATIENT'].nunique()\n",
    "medication_patients = df[df['CATEGORY'] == 'medication']['PATIENT'].nunique()\n",
    "\n",
    "print(f\"Unique Patients in 'food' CATEGORY: {food_patients}\")\n",
    "print(f\"Unique Patients in 'environment' CATEGORY: {environment_patients}\")\n",
    "print(f\"Unique Patients in 'medication' CATEGORY: {medication_patients}\")\n"
   ]
  },
  {
   "cell_type": "code",
   "execution_count": 51,
   "id": "364e4f25",
   "metadata": {},
   "outputs": [
    {
     "data": {
      "image/png": "[encoded data removed]",
      "text/plain": [
       "<Figure size 800x600 with 1 Axes>"
      ]
     },
     "metadata": {},
     "output_type": "display_data"
    }
   ],
   "source": [
    "# Create a pie chart\n",
    "categories = ['food', 'environment', 'medication']\n",
    "patient_counts = [food_patients, environment_patients, medication_patients]\n",
    "\n",
    "# Plot the pie chart\n",
    "plt.figure(figsize=(8, 6))\n",
    "plt.pie(patient_counts, labels=categories, autopct='%1.1f%%', startangle=140)\n",
    "plt.title('Unique Patients by CATEGORY')\n",
    "plt.show()"
   ]
  },
  {
   "cell_type": "code",
   "execution_count": 38,
   "id": "b0def348",
   "metadata": {},
   "outputs": [
    {
     "name": "stdout",
     "output_type": "stream",
     "text": [
      "Descriptions related to substance in the DESCRIPTION column: Latex (substance), Animal dander (substance), Grass pollen (substance), Cow's milk (substance), Soya bean (substance), Shellfish (substance), Tree pollen (substance), Eggs (edible) (substance), Wheat (substance), Fish (substance), Tree nut (substance), Peanut (substance), Bee venom (substance)\n"
     ]
    }
   ],
   "source": [
    "# Filter the DataFrame to include only rows where DESCRIPTION contains 'substance'\n",
    "substance_related_descriptions = df[df['DESCRIPTION'].str.contains('substance', case=False, na=False)]['DESCRIPTION']\n",
    "\n",
    "# Get unique descriptions from the filtered DataFrame\n",
    "unique_substance_descriptions = substance_related_descriptions.unique()\n",
    "\n",
    "# Join the unique descriptions into a single string\n",
    "unique_substance_descriptions_string = ', '.join(unique_substance_descriptions)\n",
    "\n",
    "# Print the result\n",
    "print(\"Descriptions related to substance in the DESCRIPTION column:\", unique_substance_descriptions_string)\n",
    "\n",
    "# Subtsances which are causing substance related allergies to patients are this below  "
   ]
  },
  {
   "cell_type": "code",
   "execution_count": 39,
   "id": "2423e8cc",
   "metadata": {},
   "outputs": [
    {
     "name": "stdout",
     "output_type": "stream",
     "text": [
      "Descriptions related to organism in the DESCRIPTION column: Mold (organism), House dust mite (organism)\n"
     ]
    }
   ],
   "source": [
    "# Filter the DataFrame to include only rows where DESCRIPTION contain 'organism'\n",
    "organism_related_descriptions = df[df['DESCRIPTION'].str.contains('organism', case=False, na=False)]['DESCRIPTION']\n",
    "\n",
    "# Get unique descriptions from the filtered DataFrame\n",
    "unique_organism_descriptions = organism_related_descriptions.unique()\n",
    "\n",
    "# Join the unique descriptions into a single string\n",
    "unique_organism_descriptions_string = ', '.join(unique_organism_descriptions)\n",
    "\n",
    "# Print the result\n",
    "print(\"Descriptions related to organism in the DESCRIPTION column:\", unique_organism_descriptions_string)\n",
    "\n",
    "# Organism which are causing organism related allergies to patients are this below  "
   ]
  },
  {
   "cell_type": "code",
   "execution_count": 40,
   "id": "9c5470ed",
   "metadata": {},
   "outputs": [
    {
     "name": "stdout",
     "output_type": "stream",
     "text": [
      "Unique descriptions related to medication:\n",
      "Aspirin\n",
      "cefdinir\n",
      "Lisinopril\n",
      "Ibuprofen\n",
      "Penicillin V\n",
      "Sulfamethoxazole / Trimethoprim\n"
     ]
    }
   ],
   "source": [
    "# Filter the DataFrame to include only rows where CATEGORY contains 'medication'\n",
    "medication_related_rows = df[df['CATEGORY'].str.contains('medication', case=False, na=False)]\n",
    "\n",
    "# Get unique descriptions from the filtered DataFrame\n",
    "unique_medication_descriptions = medication_related_rows['DESCRIPTION'].unique()\n",
    "\n",
    "# Print the unique descriptions\n",
    "print(\"Unique descriptions related to medication:\")\n",
    "for description in unique_medication_descriptions:\n",
    "    print(description)\n",
    "    \n",
    "# Patient who are having medication category related allergy which is seen \n",
    "# by all this below medicines \n",
    "\n"
   ]
  },
  {
   "cell_type": "code",
   "execution_count": 41,
   "id": "3f854a17",
   "metadata": {},
   "outputs": [
    {
     "name": "stdout",
     "output_type": "stream",
     "text": [
      "Unique descriptions related to food:\n",
      "Cow's milk (substance)\n",
      "Soya bean (substance)\n",
      "Shellfish (substance)\n",
      "Eggs (edible) (substance)\n",
      "Wheat (substance)\n",
      "Fish (substance)\n",
      "Tree nut (substance)\n",
      "Peanut (substance)\n"
     ]
    }
   ],
   "source": [
    "# Filter the DataFrame to include only rows where CATEGORY contains 'food'\n",
    "food_related_rows = df[df['CATEGORY'].str.contains('food', case=False, na=False)]\n",
    "\n",
    "# Get unique descriptions from the filtered DataFrame\n",
    "unique_food_descriptions = food_related_rows['DESCRIPTION'].unique()\n",
    "\n",
    "# Print the unique descriptions\n",
    "print(\"Unique descriptions related to food:\")\n",
    "for description in unique_food_descriptions:\n",
    "    print(description)\n",
    "# Patient who are having food category related allergy which is seen \n",
    "# by all this below food substances "
   ]
  },
  {
   "cell_type": "code",
   "execution_count": 42,
   "id": "9ad14bb6",
   "metadata": {},
   "outputs": [
    {
     "name": "stdout",
     "output_type": "stream",
     "text": [
      "Count of unique DESCRIPTION values in the 'food' category: 8\n"
     ]
    }
   ],
   "source": [
    "# Filter the DataFrame to include only rows where 'CATEGORY' is 'food'\n",
    "food_category_df = df[df['CATEGORY'] == 'food']\n",
    "\n",
    "# Count the unique values in the 'DESCRIPTION' column\n",
    "unique_description_count = food_category_df['DESCRIPTION'].nunique()\n",
    "\n",
    "# Print the count of unique 'DESCRIPTION' values in the 'food' category\n",
    "print(\"Count of unique DESCRIPTION values in the 'food' category:\", unique_description_count)\n"
   ]
  },
  {
   "cell_type": "code",
   "execution_count": 43,
   "id": "b551c3ec",
   "metadata": {},
   "outputs": [
    {
     "name": "stdout",
     "output_type": "stream",
     "text": [
      "Distribution of DESCRIPTION Values for CATEGORY 'food':\n",
      "Shellfish (substance)        43\n",
      "Eggs (edible) (substance)    34\n",
      "Peanut (substance)           33\n",
      "Fish (substance)             30\n",
      "Tree nut (substance)         30\n",
      "Wheat (substance)            27\n",
      "Cow's milk (substance)       20\n",
      "Soya bean (substance)        17\n",
      "Name: DESCRIPTION, dtype: int64\n"
     ]
    }
   ],
   "source": [
    "# Filter the DataFrame to include only rows where CATEGORY is 'food'\n",
    "food_df = df[df['CATEGORY'] == 'food']\n",
    "\n",
    "# Count the occurrences of each unique value in the 'DESCRIPTION' column\n",
    "description_distribution = food_df['DESCRIPTION'].value_counts()\n",
    "\n",
    "# Print the distribution of 'DESCRIPTION' values for the 'food' CATEGORY\n",
    "print(\"Distribution of DESCRIPTION Values for CATEGORY 'food':\")\n",
    "print(description_distribution)\n"
   ]
  },
  {
   "cell_type": "code",
   "execution_count": 44,
   "id": "2d37c42a",
   "metadata": {},
   "outputs": [
    {
     "data": {
      "image/png": "[encoded data removed]",
      "text/plain": [
       "<Figure size 1200x600 with 1 Axes>"
      ]
     },
     "metadata": {},
     "output_type": "display_data"
    }
   ],
   "source": [
    "# Create a bar plot\n",
    "plt.figure(figsize=(12, 6))\n",
    "description_distribution.plot(kind='bar')\n",
    "plt.title(\"Distribution of DESCRIPTION Values for CATEGORY 'food'\")\n",
    "plt.xlabel(\"DESCRIPTION\")\n",
    "plt.ylabel(\"Count\")\n",
    "plt.xticks(rotation=90)  # Rotate x-axis labels for better visibility\n",
    "plt.tight_layout()\n",
    "plt.show()"
   ]
  },
  {
   "cell_type": "markdown",
   "id": "53634422",
   "metadata": {},
   "source": [
    "Obervation : \n",
    "    \n",
    "    1.Most of the patients are having Shellfish(substances) as allergy when      they have food category as a allergy type.\n",
    "    2.Least are affected by Soya bean (substances)"
   ]
  },
  {
   "cell_type": "code",
   "execution_count": 41,
   "id": "63432327",
   "metadata": {},
   "outputs": [
    {
     "name": "stdout",
     "output_type": "stream",
     "text": [
      "Unique descriptions related to environment:\n",
      "Latex (substance)\n",
      "Mold (organism)\n",
      "House dust mite (organism)\n",
      "Animal dander (substance)\n",
      "Grass pollen (substance)\n",
      "Tree pollen (substance)\n",
      "Bee venom (substance)\n"
     ]
    }
   ],
   "source": [
    "# Filter the DataFrame to include only rows where CATEGORY contains 'environment'\n",
    "environment_related_rows = df[df['CATEGORY'].str.contains('environment', case=False, na=False)]\n",
    "\n",
    "# Get unique descriptions from the filtered DataFrame\n",
    "unique_environment_descriptions = environment_related_rows['DESCRIPTION'].unique()\n",
    "\n",
    "# Print the unique descriptions\n",
    "print(\"Unique descriptions related to environment:\")\n",
    "for description in unique_environment_descriptions:\n",
    "    print(description)\n",
    "    \n",
    "# Patient who are having environment category related allergy which is seen \n",
    "# by all this below substances and organisms\n"
   ]
  },
  {
   "cell_type": "code",
   "execution_count": 45,
   "id": "4898d899",
   "metadata": {},
   "outputs": [
    {
     "name": "stdout",
     "output_type": "stream",
     "text": [
      "Most Common DESCRIPTION in CATEGORY 'environment':\n",
      "DESCRIPTION: 'Mold (organism)' - Count: 102\n"
     ]
    }
   ],
   "source": [
    "# Filter the DataFrame to include only rows where CATEGORY is 'environment'\n",
    "environment_df = df[df['CATEGORY'] == 'environment']\n",
    "\n",
    "# Count the occurrences of each unique value in the 'DESCRIPTION' column\n",
    "description_counts = environment_df['DESCRIPTION'].value_counts()\n",
    "\n",
    "# Find the most common DESCRIPTION value and its count\n",
    "most_common_description = description_counts.idxmax()\n",
    "most_common_description_count = description_counts.max()\n",
    "\n",
    "print(\"Most Common DESCRIPTION in CATEGORY 'environment':\")\n",
    "print(f\"DESCRIPTION: '{most_common_description}' - Count: {most_common_description_count}\")\n"
   ]
  },
  {
   "cell_type": "code",
   "execution_count": 48,
   "id": "1537e9a8",
   "metadata": {},
   "outputs": [
    {
     "data": {
      "image/png": "[encoded data removed]",
      "text/plain": [
       "<Figure size 1200x600 with 1 Axes>"
      ]
     },
     "metadata": {},
     "output_type": "display_data"
    }
   ],
   "source": [
    "# Filter the DataFrame to include only rows where CATEGORY is 'environment'\n",
    "environment_df = df[df['CATEGORY'] == 'environment']\n",
    "\n",
    "# Count the occurrences of each unique value in the 'DESCRIPTION' column\n",
    "description_counts = environment_df['DESCRIPTION'].value_counts()\n",
    "\n",
    "# Calculate the percentage of each unique DESCRIPTION value\n",
    "description_percentages = (description_counts / description_counts.sum()) * 100\n",
    "\n",
    "# Create a bar plot\n",
    "plt.figure(figsize=(12, 6))\n",
    "description_counts.plot(kind='bar', color='skyblue', edgecolor='black')\n",
    "plt.xlabel('DESCRIPTION')\n",
    "plt.ylabel('Count')\n",
    "plt.title('Distribution of DESCRIPTION in CATEGORY \"environment\"')\n",
    "plt.xticks(rotation=90)\n",
    "plt.tight_layout()\n",
    "\n",
    "# Annotate the bars with percentages\n",
    "for i, v in enumerate(description_counts):\n",
    "    plt.text(i, v, f'{v} ({description_percentages.iloc[i]:.2f}%)', ha='center', va='bottom')\n",
    "\n",
    "plt.show()\n"
   ]
  },
  {
   "cell_type": "code",
   "execution_count": 42,
   "id": "6cb3307d",
   "metadata": {},
   "outputs": [
    {
     "name": "stdout",
     "output_type": "stream",
     "text": [
      "Unique description1 related to 'environment' category:\n",
      "Wheal (finding)\n",
      "Sneezing\n",
      "0\n",
      "Rhinoconjunctivitis (disorder)\n",
      "Nose running\n",
      "Allergic skin rash\n",
      "Cough (finding)\n",
      "Wheezing\n",
      "Eruption of skin (disorder)\n",
      "Anaphylaxis (disorder)\n",
      "Allergic angioedema (disorder)\n",
      "Dyspnea (finding)\n",
      "Itching (finding)\n"
     ]
    }
   ],
   "source": [
    "# Filter the DataFrame to include only rows where CATEGORY is 'environment'\n",
    "environment_related_rows = df[df['CATEGORY'].str.lower() == 'environment']\n",
    "\n",
    "# Get unique descriptions from the filtered DataFrame\n",
    "unique_environment_descriptions = environment_related_rows['DESCRIPTION1'].unique()\n",
    "\n",
    "# Print the unique descriptions\n",
    "print(\"Unique description1 related to 'environment' category:\")\n",
    "for description in unique_environment_descriptions:\n",
    "    print(description)\n",
    "    \n",
    "# Patient who are having environment allergy this all description1 can be seen in them  \n"
   ]
  },
  {
   "cell_type": "code",
   "execution_count": 43,
   "id": "23a8978f",
   "metadata": {},
   "outputs": [
    {
     "name": "stdout",
     "output_type": "stream",
     "text": [
      "Unique description1 related to 'food' category:\n",
      "Finding of vomiting (finding)\n",
      "Allergic angioedema (disorder)\n",
      "0\n",
      "Eruption of skin (disorder)\n",
      "Diarrhea (finding)\n",
      "Dyspnea (finding)\n",
      "Anaphylaxis (disorder)\n",
      "Cough (finding)\n",
      "Wheal (finding)\n",
      "Nausea (finding)\n",
      "Wheezing (finding)\n",
      "Rhinoconjunctivitis (disorder)\n"
     ]
    }
   ],
   "source": [
    "# Filter the DataFrame to include only rows where CATEGORY is 'food'\n",
    "food_related_rows = df[df['CATEGORY'].str.lower() == 'food']\n",
    "\n",
    "# Get unique descriptions from the filtered DataFrame\n",
    "unique_food_descriptions = food_related_rows['DESCRIPTION1'].unique()\n",
    "\n",
    "# Print the unique descriptions\n",
    "print(\"Unique description1 related to 'food' category:\")\n",
    "for description in unique_food_descriptions:\n",
    "    print(description)\n",
    "    \n",
    "# Patient who are having food allergy this all description1 can be seen in them   "
   ]
  },
  {
   "cell_type": "code",
   "execution_count": 44,
   "id": "2218e975",
   "metadata": {},
   "outputs": [
    {
     "name": "stdout",
     "output_type": "stream",
     "text": [
      "Unique description1 related to 'medication' category:\n",
      "0\n",
      "Abdominal pain (finding)\n",
      "Wheal (finding)\n",
      "Rhinoconjunctivitis (disorder)\n",
      "Anaphylaxis (disorder)\n",
      "Eruption of skin (disorder)\n",
      "Cough (finding)\n",
      "Dizziness (finding)\n"
     ]
    }
   ],
   "source": [
    "# Filter the DataFrame to include only rows where CATEGORY is 'medication'\n",
    "medication_related_rows = df[df['CATEGORY'].str.lower() == 'medication']\n",
    "\n",
    "# Get unique descriptions from the filtered DataFrame\n",
    "unique_medication_descriptions = medication_related_rows['DESCRIPTION1'].unique()\n",
    "\n",
    "# Print the unique descriptions\n",
    "print(\"Unique description1 related to 'medication' category:\")\n",
    "for description in unique_medication_descriptions:\n",
    "    print(description)\n",
    "    \n",
    "# Patient who are having medication allergy this all description1 can be seen in them   "
   ]
  }
 ],
 "metadata": {
  "kernelspec": {
   "display_name": "Python 3",
   "language": "python",
   "name": "python3"
  },
  "language_info": {
   "codemirror_mode": {
    "name": "ipython",
    "version": 3
   },
   "file_extension": ".py",
   "mimetype": "text/x-python",
   "name": "python",
   "nbconvert_exporter": "python",
   "pygments_lexer": "ipython3",
   "version": "3.11.4"
  }
 },
 "nbformat": 4,
 "nbformat_minor": 5
}
